{
 "cells": [
  {
   "cell_type": "markdown",
   "id": "f3c2cf48",
   "metadata": {},
   "source": [
    "Строим запрос к нашему сервису"
   ]
  },
  {
   "cell_type": "code",
   "execution_count": 6,
   "id": "5ac5be2e",
   "metadata": {},
   "outputs": [],
   "source": [
    "import requests\n",
    "\n",
    "import urllib.request\n",
    "import json "
   ]
  },
  {
   "cell_type": "code",
   "execution_count": 30,
   "id": "e4291964",
   "metadata": {},
   "outputs": [],
   "source": [
    "data = (33.0, 'Female', 41.0, 6.0, 3.0, 20.0, 'Basic', 'Annual', 946.32, 8.0)"
   ]
  },
  {
   "cell_type": "code",
   "execution_count": 32,
   "id": "7065210d",
   "metadata": {},
   "outputs": [],
   "source": [
    "# формируем запрос\n",
    "def send_json(x):\n",
    "    Age, Gender, Tenure, Usage_Frequency, Support_Calls, Payment_Delay, Subscription_Type, Contract_Length, Total_Spend, Last_Interaction = x\n",
    "    print(Age, Gender, Tenure, Usage_Frequency, Support_Calls, Payment_Delay, Subscription_Type, Contract_Length, Total_Spend, Last_Interaction)\n",
    "    body = {\n",
    "        'Age': Age, \n",
    "        'Gender': Gender,\n",
    "        'Tenure': Tenure,\n",
    "        'Usage Frequency': Usage_Frequency,\n",
    "        'Support Calls': Support_Calls,\n",
    "        'Payment Delay': Payment_Delay,\n",
    "        'Subscription Type': Subscription_Type,\n",
    "        'Contract Length': Contract_Length,\n",
    "        'Total Spend': Total_Spend,\n",
    "        'Last Interaction': Last_Interaction}\n",
    "    \n",
    "    myurl = 'http://127.0.0.1:8082' + '/predict'\n",
    "    headers = {'content-type': 'application/json; charset=utf-8'}\n",
    "    response = requests.post(myurl, json=body, headers=headers)\n",
    "    return response.json()['predictions']"
   ]
  },
  {
   "cell_type": "code",
   "execution_count": 33,
   "id": "d21859a0",
   "metadata": {},
   "outputs": [
    {
     "name": "stdout",
     "output_type": "stream",
     "text": [
      "33.0 Female 41.0 6.0 3.0 20.0 Basic Annual 946.32 8.0\n",
      "предсказание 0.9999999\n"
     ]
    }
   ],
   "source": [
    "# обращение к серверу с запросом из одного набора (его построили руками выше - data)\n",
    "response = send_json(data)\n",
    "print('предсказание', response)"
   ]
  },
  {
   "cell_type": "markdown",
   "id": "d2304a93",
   "metadata": {},
   "source": [
    "Сделаем обработку массы запросов:"
   ]
  },
  {
   "cell_type": "code",
   "execution_count": 37,
   "id": "4b7ebcdb",
   "metadata": {},
   "outputs": [],
   "source": [
    "import pandas as pd\n",
    "from sklearn.metrics import roc_auc_score, roc_curve, precision_recall_curve\n",
    "from sklearn.metrics import f1_score\n",
    "from urllib import request, parse\n",
    "\n",
    "X_test = pd.read_csv(\"C:/Users/User/Desktop/Машинное обучение в бизнесе/Lection9/X_test.csv\")\n",
    "y_test = pd.read_csv(\"C:/Users/User/Desktop/Машинное обучение в бизнесе/Lection9/y_test.csv\")\n",
    "\n",
    "X_test.fillna('', inplace=True)"
   ]
  },
  {
   "cell_type": "code",
   "execution_count": 38,
   "id": "1815ec22",
   "metadata": {},
   "outputs": [
    {
     "data": {
      "text/html": [
       "<div>\n",
       "<style scoped>\n",
       "    .dataframe tbody tr th:only-of-type {\n",
       "        vertical-align: middle;\n",
       "    }\n",
       "\n",
       "    .dataframe tbody tr th {\n",
       "        vertical-align: top;\n",
       "    }\n",
       "\n",
       "    .dataframe thead th {\n",
       "        text-align: right;\n",
       "    }\n",
       "</style>\n",
       "<table border=\"1\" class=\"dataframe\">\n",
       "  <thead>\n",
       "    <tr style=\"text-align: right;\">\n",
       "      <th></th>\n",
       "      <th>Age</th>\n",
       "      <th>Gender</th>\n",
       "      <th>Tenure</th>\n",
       "      <th>Usage Frequency</th>\n",
       "      <th>Support Calls</th>\n",
       "      <th>Payment Delay</th>\n",
       "      <th>Subscription Type</th>\n",
       "      <th>Contract Length</th>\n",
       "      <th>Total Spend</th>\n",
       "      <th>Last Interaction</th>\n",
       "    </tr>\n",
       "  </thead>\n",
       "  <tbody>\n",
       "    <tr>\n",
       "      <th>0</th>\n",
       "      <td>27.0</td>\n",
       "      <td>Male</td>\n",
       "      <td>14.0</td>\n",
       "      <td>28.0</td>\n",
       "      <td>3.0</td>\n",
       "      <td>16.0</td>\n",
       "      <td>Standard</td>\n",
       "      <td>Monthly</td>\n",
       "      <td>862.0</td>\n",
       "      <td>9.0</td>\n",
       "    </tr>\n",
       "    <tr>\n",
       "      <th>1</th>\n",
       "      <td>40.0</td>\n",
       "      <td>Male</td>\n",
       "      <td>19.0</td>\n",
       "      <td>2.0</td>\n",
       "      <td>8.0</td>\n",
       "      <td>28.0</td>\n",
       "      <td>Standard</td>\n",
       "      <td>Monthly</td>\n",
       "      <td>620.81</td>\n",
       "      <td>21.0</td>\n",
       "    </tr>\n",
       "    <tr>\n",
       "      <th>2</th>\n",
       "      <td>27.0</td>\n",
       "      <td>Female</td>\n",
       "      <td>57.0</td>\n",
       "      <td>3.0</td>\n",
       "      <td>0.0</td>\n",
       "      <td>24.0</td>\n",
       "      <td>Standard</td>\n",
       "      <td>Annual</td>\n",
       "      <td>915.0</td>\n",
       "      <td>26.0</td>\n",
       "    </tr>\n",
       "    <tr>\n",
       "      <th>3</th>\n",
       "      <td>40.0</td>\n",
       "      <td>Male</td>\n",
       "      <td>21.0</td>\n",
       "      <td>14.0</td>\n",
       "      <td>0.0</td>\n",
       "      <td>11.0</td>\n",
       "      <td>Basic</td>\n",
       "      <td>Annual</td>\n",
       "      <td>592.83</td>\n",
       "      <td>9.0</td>\n",
       "    </tr>\n",
       "    <tr>\n",
       "      <th>4</th>\n",
       "      <td>39.0</td>\n",
       "      <td>Male</td>\n",
       "      <td>58.0</td>\n",
       "      <td>4.0</td>\n",
       "      <td>2.0</td>\n",
       "      <td>8.0</td>\n",
       "      <td>Standard</td>\n",
       "      <td>Monthly</td>\n",
       "      <td>694.0</td>\n",
       "      <td>15.0</td>\n",
       "    </tr>\n",
       "    <tr>\n",
       "      <th>...</th>\n",
       "      <td>...</td>\n",
       "      <td>...</td>\n",
       "      <td>...</td>\n",
       "      <td>...</td>\n",
       "      <td>...</td>\n",
       "      <td>...</td>\n",
       "      <td>...</td>\n",
       "      <td>...</td>\n",
       "      <td>...</td>\n",
       "      <td>...</td>\n",
       "    </tr>\n",
       "    <tr>\n",
       "      <th>145470</th>\n",
       "      <td>19.0</td>\n",
       "      <td>Female</td>\n",
       "      <td>48.0</td>\n",
       "      <td>10.0</td>\n",
       "      <td>3.0</td>\n",
       "      <td>22.0</td>\n",
       "      <td>Basic</td>\n",
       "      <td>Quarterly</td>\n",
       "      <td>344.0</td>\n",
       "      <td>4.0</td>\n",
       "    </tr>\n",
       "    <tr>\n",
       "      <th>145471</th>\n",
       "      <td>33.0</td>\n",
       "      <td>Male</td>\n",
       "      <td>40.0</td>\n",
       "      <td>28.0</td>\n",
       "      <td>1.0</td>\n",
       "      <td>9.0</td>\n",
       "      <td>Basic</td>\n",
       "      <td>Quarterly</td>\n",
       "      <td>582.14</td>\n",
       "      <td>23.0</td>\n",
       "    </tr>\n",
       "    <tr>\n",
       "      <th>145472</th>\n",
       "      <td>44.0</td>\n",
       "      <td>Male</td>\n",
       "      <td>33.0</td>\n",
       "      <td>14.0</td>\n",
       "      <td>2.0</td>\n",
       "      <td>18.0</td>\n",
       "      <td>Standard</td>\n",
       "      <td>Quarterly</td>\n",
       "      <td>855.02</td>\n",
       "      <td>5.0</td>\n",
       "    </tr>\n",
       "    <tr>\n",
       "      <th>145473</th>\n",
       "      <td>45.0</td>\n",
       "      <td>Female</td>\n",
       "      <td>7.0</td>\n",
       "      <td>9.0</td>\n",
       "      <td>2.0</td>\n",
       "      <td>11.0</td>\n",
       "      <td>Basic</td>\n",
       "      <td>Annual</td>\n",
       "      <td>613.61</td>\n",
       "      <td>7.0</td>\n",
       "    </tr>\n",
       "    <tr>\n",
       "      <th>145474</th>\n",
       "      <td>21.0</td>\n",
       "      <td>Male</td>\n",
       "      <td>15.0</td>\n",
       "      <td>14.0</td>\n",
       "      <td>2.0</td>\n",
       "      <td>14.0</td>\n",
       "      <td>Basic</td>\n",
       "      <td>Quarterly</td>\n",
       "      <td>699.03</td>\n",
       "      <td>22.0</td>\n",
       "    </tr>\n",
       "  </tbody>\n",
       "</table>\n",
       "<p>145475 rows × 10 columns</p>\n",
       "</div>"
      ],
      "text/plain": [
       "         Age  Gender Tenure Usage Frequency Support Calls Payment Delay  \\\n",
       "0       27.0    Male   14.0            28.0           3.0          16.0   \n",
       "1       40.0    Male   19.0             2.0           8.0          28.0   \n",
       "2       27.0  Female   57.0             3.0           0.0          24.0   \n",
       "3       40.0    Male   21.0            14.0           0.0          11.0   \n",
       "4       39.0    Male   58.0             4.0           2.0           8.0   \n",
       "...      ...     ...    ...             ...           ...           ...   \n",
       "145470  19.0  Female   48.0            10.0           3.0          22.0   \n",
       "145471  33.0    Male   40.0            28.0           1.0           9.0   \n",
       "145472  44.0    Male   33.0            14.0           2.0          18.0   \n",
       "145473  45.0  Female    7.0             9.0           2.0          11.0   \n",
       "145474  21.0    Male   15.0            14.0           2.0          14.0   \n",
       "\n",
       "       Subscription Type Contract Length Total Spend Last Interaction  \n",
       "0               Standard         Monthly       862.0              9.0  \n",
       "1               Standard         Monthly      620.81             21.0  \n",
       "2               Standard          Annual       915.0             26.0  \n",
       "3                  Basic          Annual      592.83              9.0  \n",
       "4               Standard         Monthly       694.0             15.0  \n",
       "...                  ...             ...         ...              ...  \n",
       "145470             Basic       Quarterly       344.0              4.0  \n",
       "145471             Basic       Quarterly      582.14             23.0  \n",
       "145472          Standard       Quarterly      855.02              5.0  \n",
       "145473             Basic          Annual      613.61              7.0  \n",
       "145474             Basic       Quarterly      699.03             22.0  \n",
       "\n",
       "[145475 rows x 10 columns]"
      ]
     },
     "execution_count": 38,
     "metadata": {},
     "output_type": "execute_result"
    }
   ],
   "source": [
    "X_test"
   ]
  },
  {
   "cell_type": "markdown",
   "id": "476a5d2e",
   "metadata": {},
   "source": [
    "Сделаем N запросов и оценим время:"
   ]
  },
  {
   "cell_type": "code",
   "execution_count": 82,
   "id": "0d851c69",
   "metadata": {},
   "outputs": [],
   "source": [
    "N = 2"
   ]
  },
  {
   "cell_type": "code",
   "execution_count": 83,
   "id": "92ad1b1d",
   "metadata": {},
   "outputs": [
    {
     "name": "stdout",
     "output_type": "stream",
     "text": [
      "27.0 Male 14.0 28.0 3.0 16.0 Standard Monthly 862.0 9.0\n",
      "40.0 Male 19.0 2.0 8.0 28.0 Standard Monthly 620.81 21.0\n",
      "Wall time: 87.7 ms\n"
     ]
    }
   ],
   "source": [
    "%%time\n",
    "predictions = X_test.iloc[:N].apply(lambda x: send_json(x), axis=1)"
   ]
  },
  {
   "cell_type": "code",
   "execution_count": 64,
   "id": "d470de2c",
   "metadata": {},
   "outputs": [
    {
     "data": {
      "text/plain": [
       "0    0.99999905\n",
       "1    0.99999905\n",
       "dtype: object"
      ]
     },
     "execution_count": 64,
     "metadata": {},
     "output_type": "execute_result"
    }
   ],
   "source": [
    "predictions"
   ]
  },
  {
   "cell_type": "code",
   "execution_count": null,
   "id": "0c36ee95",
   "metadata": {},
   "outputs": [],
   "source": []
  }
 ],
 "metadata": {
  "kernelspec": {
   "display_name": "Python 3 (ipykernel)",
   "language": "python",
   "name": "python3"
  },
  "language_info": {
   "codemirror_mode": {
    "name": "ipython",
    "version": 3
   },
   "file_extension": ".py",
   "mimetype": "text/x-python",
   "name": "python",
   "nbconvert_exporter": "python",
   "pygments_lexer": "ipython3",
   "version": "3.9.13"
  }
 },
 "nbformat": 4,
 "nbformat_minor": 5
}
